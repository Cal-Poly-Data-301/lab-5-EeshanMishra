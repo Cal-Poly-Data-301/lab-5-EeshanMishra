{
  "nbformat": 4,
  "nbformat_minor": 0,
  "metadata": {
    "kernelspec": {
      "display_name": "Python 3",
      "language": "python",
      "name": "python3"
    },
    "language_info": {
      "codemirror_mode": {
        "name": "ipython",
        "version": 3
      },
      "file_extension": ".py",
      "mimetype": "text/x-python",
      "name": "python",
      "nbconvert_exporter": "python",
      "pygments_lexer": "ipython3",
      "version": "3.6.8"
    },
    "colab": {
      "name": "DATA 301 Lab 5 - EESHAN MISHRA",
      "provenance": [],
      "collapsed_sections": []
    }
  },
  "cells": [
    {
      "cell_type": "markdown",
      "metadata": {
        "id": "iG3X1KFIBLUK"
      },
      "source": [
        "# Authorship of the Federalist Papers\n",
        "\n",
        "The _Federalist Papers_ were a set of 85 essays published between 1787 and 1788 to promote the ratification of the United States Constitution. They were originally published under the pseudonym \"Publius\". Although the identity of the authors was a closely guarded secret at the time, most of the papers have since been conclusively attributed to one of Hamilton, Jay, or Madison. The known authorships can be found in `https://dlsun.github.io/pods/data/federalist/authorship.csv`.\n",
        "\n",
        "For 15 of the papers, however, the authorships remain disputed. (These papers can be identified from the `authorship.csv` file because the \"Author\" field is blank.) In this analysis, you will use the papers with known authorship to predict the authorships of the disputed papers. The text of each paper is available at `https://dlsun.github.io/pods/data/federalist/x.txt`, where `x` is the number of the paper (i.e., a number from 1 to 85). The name of the file indicates the number of the paper."
      ]
    },
    {
      "cell_type": "code",
      "source": [
        "import pandas as pd\n",
        "import requests\n",
        "from collections import Counter\n",
        "df_author = pd.read_csv(\"https://dlsun.github.io/pods/data/federalist/authorship.csv\")\n",
        "fed_docs = pd.Series()\n",
        "for i in df_author[\"Paper\"]:\n",
        "  file = str(i)+\".txt\"\n",
        "  response = requests.get(\"https://dlsun.github.io/pods/data/federalist/\"+ file, \"r\")\n",
        "  fed_docs[file[:-4]] = response.text\n",
        "df_author[\"Author\"].fillna(\"Unknown\", inplace = True)\n",
        "df_unknown = df_author[df_author[\"Author\"]==\"Unknown\"]\n",
        "df_unknown[\"Paper\"]"
      ],
      "metadata": {
        "colab": {
          "base_uri": "https://localhost:8080/"
        },
        "id": "S6z-l93qW_ZI",
        "outputId": "fcc60203-4964-4e2b-f105-b0538e3d7d16"
      },
      "execution_count": 30,
      "outputs": [
        {
          "output_type": "stream",
          "name": "stderr",
          "text": [
            "/usr/local/lib/python3.7/dist-packages/ipykernel_launcher.py:5: DeprecationWarning: The default dtype for empty Series will be 'object' instead of 'float64' in a future version. Specify a dtype explicitly to silence this warning.\n",
            "  \"\"\"\n"
          ]
        },
        {
          "output_type": "execute_result",
          "data": {
            "text/plain": [
              "17    18\n",
              "18    19\n",
              "19    20\n",
              "48    49\n",
              "49    50\n",
              "50    51\n",
              "51    52\n",
              "52    53\n",
              "53    54\n",
              "54    55\n",
              "55    56\n",
              "56    57\n",
              "57    58\n",
              "61    62\n",
              "62    63\n",
              "Name: Paper, dtype: int64"
            ]
          },
          "metadata": {},
          "execution_count": 30
        }
      ]
    },
    {
      "cell_type": "markdown",
      "metadata": {
        "id": "8YRe6SB3BLUN"
      },
      "source": [
        "## Question 1\n",
        "\n",
        "When analyzing an author's style, common words like \"the\" and \"on\" are actually more useful than rare words like \"hostilities\". That is because rare words typically signify context. Context is useful if you are trying to find documents about similar topics, but not so useful if you are trying to identify an author's style because different authors can write about the same topic. For example, both Dr. Seuss and Charles Dickens used rare words like \"chimney\" and \"stockings\" in _How the Grinch Stole Christmas_ and _A Christmas Carol_, respectively. But they used common words very differently: Dickens used the word \"upon\" over 100 times, while Dr. Seuss did not use \"upon\" even once.\n",
        "\n",
        "Read in the Federalist Papers. Convert each one into a vector of term frequencies. In order to restrict to common words, include only the top 50 words across the corpus. (Because we are restricting to the most common words already, there is no reason to reweight them using TF-IDF.)"
      ]
    },
    {
      "cell_type": "code",
      "source": [
        "from sklearn.feature_extraction.text import CountVectorizer\n",
        "\n",
        "vec = CountVectorizer()\n",
        "vec.fit(fed_docs) # This determines the vocabulary.\n",
        "tf_sparse = vec.transform(fed_docs)\n",
        "\n",
        "all_sums = tf_sparse.sum(axis=0) \n",
        "frequencies = [(word, all_sums[0, idx]) for word, idx in vec.vocabulary_.items()]\n",
        "frequencies = sorted(frequencies, key = lambda x: x[1], reverse=True)\n",
        "frequencies[:50]\n"
      ],
      "metadata": {
        "colab": {
          "base_uri": "https://localhost:8080/"
        },
        "id": "BlEbczTtb-pf",
        "outputId": "433b59bf-69b6-491b-b691-501ead4e29df"
      },
      "execution_count": 31,
      "outputs": [
        {
          "output_type": "execute_result",
          "data": {
            "text/plain": [
              "[('the', 17767),\n",
              " ('of', 11824),\n",
              " ('to', 7074),\n",
              " ('and', 5099),\n",
              " ('in', 4456),\n",
              " ('be', 3825),\n",
              " ('that', 2792),\n",
              " ('it', 2550),\n",
              " ('is', 2194),\n",
              " ('which', 2068),\n",
              " ('by', 1741),\n",
              " ('as', 1721),\n",
              " ('this', 1410),\n",
              " ('would', 1273),\n",
              " ('have', 1262),\n",
              " ('will', 1255),\n",
              " ('for', 1237),\n",
              " ('or', 1233),\n",
              " ('not', 1215),\n",
              " ('their', 1098),\n",
              " ('with', 1053),\n",
              " ('from', 1043),\n",
              " ('are', 1032),\n",
              " ('on', 952),\n",
              " ('they', 928),\n",
              " ('an', 927),\n",
              " ('states', 851),\n",
              " ('government', 829),\n",
              " ('may', 816),\n",
              " ('been', 798),\n",
              " ('state', 787),\n",
              " ('all', 731),\n",
              " ('but', 697),\n",
              " ('its', 651),\n",
              " ('other', 646),\n",
              " ('people', 612),\n",
              " ('has', 603),\n",
              " ('power', 603),\n",
              " ('more', 579),\n",
              " ('at', 568),\n",
              " ('if', 563),\n",
              " ('than', 550),\n",
              " ('them', 548),\n",
              " ('one', 547),\n",
              " ('any', 545),\n",
              " ('no', 506),\n",
              " ('those', 481),\n",
              " ('can', 465),\n",
              " ('constitution', 463),\n",
              " ('we', 461)]"
            ]
          },
          "metadata": {},
          "execution_count": 31
        }
      ]
    },
    {
      "cell_type": "markdown",
      "source": [
        "Of our top 50, 'the' is the most commonly used word and 'we' is the least commonly used.\n",
        "\n",
        "How I found out the method of getting individual sums for each column in my term frequency dataframe(how I got my frequencies array):\n",
        "https://medium.com/@cristhianboujon/how-to-list-the-most-common-words-from-text-corpus-using-scikit-learn-dad4d0cab41d"
      ],
      "metadata": {
        "id": "VBgxM5REgou_"
      }
    },
    {
      "cell_type": "markdown",
      "metadata": {
        "id": "bDLgJQtaHljA"
      },
      "source": [
        "## Question 2\n",
        "Make a visualization that summarizes the most common words used by Hamilton, Madison, and Jay."
      ]
    },
    {
      "cell_type": "code",
      "source": [
        "rows = []\n",
        "for i in range(30):\n",
        "  row = {}\n",
        "  row[\"freq\"] = frequencies[i][1]\n",
        "  row[\"word\"] = frequencies[i][0]\n",
        "  rows.append(row)\n",
        "df_freq = pd.DataFrame(rows)\n",
        "df_freq.plot.bar(xlabel = df_freq[\"word\"]), df_freq"
      ],
      "metadata": {
        "id": "EGYRw5r2cuBF",
        "colab": {
          "base_uri": "https://localhost:8080/",
          "height": 853
        },
        "outputId": "fc311795-a1e0-48ca-e99c-fc9e3f706c69"
      },
      "execution_count": 32,
      "outputs": [
        {
          "output_type": "execute_result",
          "data": {
            "text/plain": [
              "(<matplotlib.axes._subplots.AxesSubplot at 0x7f5fb9f05e10>,\n",
              "      freq        word\n",
              " 0   17767         the\n",
              " 1   11824          of\n",
              " 2    7074          to\n",
              " 3    5099         and\n",
              " 4    4456          in\n",
              " 5    3825          be\n",
              " 6    2792        that\n",
              " 7    2550          it\n",
              " 8    2194          is\n",
              " 9    2068       which\n",
              " 10   1741          by\n",
              " 11   1721          as\n",
              " 12   1410        this\n",
              " 13   1273       would\n",
              " 14   1262        have\n",
              " 15   1255        will\n",
              " 16   1237         for\n",
              " 17   1233          or\n",
              " 18   1215         not\n",
              " 19   1098       their\n",
              " 20   1053        with\n",
              " 21   1043        from\n",
              " 22   1032         are\n",
              " 23    952          on\n",
              " 24    928        they\n",
              " 25    927          an\n",
              " 26    851      states\n",
              " 27    829  government\n",
              " 28    816         may\n",
              " 29    798        been)"
            ]
          },
          "metadata": {},
          "execution_count": 32
        },
        {
          "output_type": "display_data",
          "data": {
            "image/png": "[encoded data removed]",
            "text/plain": [
              "<Figure size 432x288 with 1 Axes>"
            ]
          },
          "metadata": {
            "needs_background": "light"
          }
        }
      ]
    },
    {
      "cell_type": "markdown",
      "source": [
        "As a general trend, it is the filler words such as 'the', 'of', 'to', 'and', etc. that are the most frequent, followed by words such as 'would', 'their', 'which' etc. The frequencies, when sorted, decrease exponentially, eventually leveling out to where most words tend to stay in a similar area after the most top 10 most common words."
      ],
      "metadata": {
        "id": "6fOVudAe9nEV"
      }
    },
    {
      "cell_type": "markdown",
      "metadata": {
        "id": "fh0DzmKrBLUT"
      },
      "source": [
        "## Question 3\n",
        "\n",
        "For each of the documents with disputed authorships, find the 5 most similar documents with _known_ authorships, using cosine distance on the term frequencies. Use the authors of these 5 most similar documents to predict the author of each disputed document. (For example, if 3 of the 5 closest documents were written by Hamilton, 1 by Madison, and 1 by Jay, then we would predict that the disputed document was written by Hamilton.)"
      ]
    },
    {
      "cell_type": "code",
      "source": [
        "from sklearn.metrics.pairwise import cosine_similarity, cosine_distances\n",
        "import numpy as np\n",
        "\n",
        "for unk in df_unknown[\"Paper\"]:\n",
        "  tmp_list = []\n",
        "  counter = 0\n",
        "  idx = 0\n",
        "  simlist = cosine_similarity(tf_sparse)[unk-1]\n",
        "  #for sim in range(len(simlist)):\n",
        "\n",
        "  tmp = sorted(simlist, reverse=True)\n",
        "  while(counter<5):\n",
        "    sim_idx = np.where(simlist == tmp[idx])\n",
        "    auth = df_author.iloc[sim_idx[0]][\"Author\"]\n",
        "    if auth.item() != \"Unknown\":\n",
        "      tmp_list.append(auth.item())\n",
        "      counter+=1\n",
        "    idx+=1\n",
        "  elem = max(set(tmp_list), key=tmp_list.count)\n",
        "    \n",
        "  print(unk, elem)"
      ],
      "metadata": {
        "colab": {
          "base_uri": "https://localhost:8080/"
        },
        "id": "ct0-vTYQhSWQ",
        "outputId": "9343406f-cfa7-459b-df19-19af22876b2e"
      },
      "execution_count": 33,
      "outputs": [
        {
          "output_type": "stream",
          "name": "stdout",
          "text": [
            "18 Madison\n",
            "19 Hamilton\n",
            "20 Madison\n",
            "49 Madison\n",
            "50 Madison\n",
            "51 Madison\n",
            "52 Madison\n",
            "53 Madison\n",
            "54 Hamilton\n",
            "55 Hamilton\n",
            "56 Hamilton\n",
            "57 Madison\n",
            "58 Madison\n",
            "62 Hamilton\n",
            "63 Madison\n"
          ]
        }
      ]
    },
    {
      "cell_type": "markdown",
      "source": [
        "Documents 18, 20, 49-53, 57, 58, and 63: Madison is the author\n",
        "\n",
        "Documents 19, 54-56, 62: Hamilton\n",
        "\n",
        "None of the documents were predicted to have been authored by Jay."
      ],
      "metadata": {
        "id": "OiIaJEwRppUz"
      }
    },
    {
      "cell_type": "markdown",
      "metadata": {
        "id": "8Ng3BgkXBLUw"
      },
      "source": [
        "## Submission Instructions\n",
        "\n",
        "- Copy this notebook to your own Drive, if you have not already.\n",
        "- Restart this notebook and run the cells from beginning to end. \n",
        "  - Go to Runtime > Restart and Run All.\n",
        "- Rename this notebook by clicking on \"DATA 301 Lab 5 - YOUR NAMES HERE\" at the very top of this page. Replace \"YOUR NAMES HERE\" with the first and last names of you (and your partners, for Phase 2).\n",
        "- Get the link to your notebook:\n",
        "  - Click on \"Share\" at the top-right. \n",
        "  - Change the settings to \"Anyone with the link can view\". \n",
        "  - Copy the sharing link into Canvas."
      ]
    }
  ]
}